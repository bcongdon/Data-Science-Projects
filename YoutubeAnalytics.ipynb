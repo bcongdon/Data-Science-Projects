{
 "cells": [
  {
   "cell_type": "code",
   "execution_count": 22,
   "metadata": {
    "collapsed": false
   },
   "outputs": [],
   "source": [
    "import csv\n",
    "import numpy as np\n",
    "\n",
    "# Load Dataset\n",
    "with open(\"./Youtube History Data.csv\") as f:\n",
    "    reader = csv.reader(f)\n",
    "    raw_data = [list(x) for x in reader]\n",
    "data = np.array(raw_data)"
   ]
  },
  {
   "cell_type": "code",
   "execution_count": 23,
   "metadata": {
    "collapsed": false
   },
   "outputs": [
    {
     "data": {
      "text/plain": [
       "array(['U5hGQDLprA8', 'ZQ_P9XGJiJM', 'gDYBl6e950E', ..., 'Q1fRxtOA4BM',\n",
       "       'x5cJHg77ido', 'rNRpb_E0jPc'], \n",
       "      dtype='|S100')"
      ]
     },
     "execution_count": 23,
     "metadata": {},
     "output_type": "execute_result"
    }
   ],
   "source": [
    "ids = np.array(data)[1:,2]\n",
    "ids"
   ]
  },
  {
   "cell_type": "code",
   "execution_count": 26,
   "metadata": {
    "collapsed": false
   },
   "outputs": [],
   "source": [
    "from apiclient.discovery import build\n",
    "import json\n",
    "\n",
    "# Youtube Data Collection\n",
    "with open('youtube_config.json') as f:\n",
    "    DEVELOPER_KEY = json.loads(f.read())['api_key']\n",
    "YOUTUBE_API_SERVICE_NAME = \"youtube\"\n",
    "YOUTUBE_API_VERSION = \"v3\"\n",
    "\n",
    "youtube = build(YOUTUBE_API_SERVICE_NAME, YOUTUBE_API_VERSION,\n",
    "    developerKey=DEVELOPER_KEY)\n",
    "\n",
    "def get_video_tags(id_):\n",
    "    search_response = youtube.videos().list(\n",
    "        id=id_,\n",
    "        part=\"snippet\",\n",
    "      ).execute()\n",
    "    if 'tags' in search_response['items'][0]['snippet']:\n",
    "        return search_response['items'][0]['snippet']['tags']"
   ]
  },
  {
   "cell_type": "code",
   "execution_count": null,
   "metadata": {
    "collapsed": false
   },
   "outputs": [],
   "source": [
    "from collections import Counter\n",
    "\n",
    "c = Counter()\n",
    "for x in ids:\n",
    "    c.update(get_video_tags(x))\n",
    "    print c"
   ]
  },
  {
   "cell_type": "code",
   "execution_count": null,
   "metadata": {
    "collapsed": true
   },
   "outputs": [],
   "source": []
  }
 ],
 "metadata": {
  "kernelspec": {
   "display_name": "Python 2",
   "language": "python",
   "name": "python2"
  },
  "language_info": {
   "codemirror_mode": {
    "name": "ipython",
    "version": 2
   },
   "file_extension": ".py",
   "mimetype": "text/x-python",
   "name": "python",
   "nbconvert_exporter": "python",
   "pygments_lexer": "ipython2",
   "version": "2.7.11"
  }
 },
 "nbformat": 4,
 "nbformat_minor": 0
}
