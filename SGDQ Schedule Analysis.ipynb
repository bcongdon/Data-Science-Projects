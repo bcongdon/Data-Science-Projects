{
 "cells": [
  {
   "cell_type": "markdown",
   "metadata": {},
   "source": [
    "## Pull Down Schedule from SGDQ Website"
   ]
  },
  {
   "cell_type": "code",
   "execution_count": 80,
   "metadata": {
    "collapsed": false
   },
   "outputs": [],
   "source": [
    "import requests\n",
    "import json\n",
    "from bs4 import BeautifulSoup\n",
    "\n",
    "req = requests.get('https://gamesdonequick.com/schedule')\n",
    "soup = BeautifulSoup(req.text)\n",
    "table = soup.find('tbody')\n",
    "\n",
    "first_rows = table.findAll('tr', attrs={'class': None})\n",
    "games = list()\n",
    "for row in first_rows:\n",
    "    second_row = row.findNext('tr', attrs={'class': 'second-row'})\n",
    "    duration = 0\n",
    "    if second_row:\n",
    "        duration = second_row.findNext('td').text.strip()\n",
    "    runner_text = row.find('td', attrs={'rowspan': 2})\n",
    "    runner = runner_text.text.strip() if runner_text else \"\"\n",
    "    game = {\n",
    "        'title': row.find('td', attrs={'class': None}).text,\n",
    "        'duration': duration,\n",
    "        'runner': runner\n",
    "    }\n",
    "    games.append(game)"
   ]
  },
  {
   "cell_type": "markdown",
   "metadata": {},
   "source": [
    "## Remove Blacklisted 'Games' \n",
    "(e.g. Setup Blocks)"
   ]
  },
  {
   "cell_type": "code",
   "execution_count": 81,
   "metadata": {
    "collapsed": false
   },
   "outputs": [],
   "source": [
    "black_list = ['Pre-Show', 'Setup Block', 'Finale']\n",
    "\n",
    "games = [x for x in games if not any(x['title'].startswith(y) for y in black_list)]"
   ]
  },
  {
   "cell_type": "markdown",
   "metadata": {},
   "source": [
    "## Download Game Data\n",
    "Requests user input for ambiguous responses\n",
    "\n",
    "(Takes a long time)"
   ]
  },
  {
   "cell_type": "code",
   "execution_count": 93,
   "metadata": {
    "collapsed": false
   },
   "outputs": [
    {
     "name": "stdout",
     "output_type": "stream",
     "text": [
      "(160/164) Searching for: Pokmon Red\n",
      "0: Sintel: The Game\n",
      "1: Virus: The Game\n",
      "2: Game of Emperors\n",
      "3: Zombie Game\n",
      "4: The Simpsons Game\n",
      "5: Wipeout: The Game\n",
      "6: Space Game\n",
      "7: BECK: The Game\n",
      "8: The Game of Harmony\n",
      "9: Game Party\n",
      "Title: Pok?mon Red\n",
      "Correct Index: -1\n",
      "(161/164) Searching for: TAS Block\n",
      "0: Sintel: The Game\n",
      "1: Virus: The Game\n",
      "2: Game of Emperors\n",
      "3: Zombie Game\n",
      "4: The Simpsons Game\n",
      "5: Wipeout: The Game\n",
      "6: Space Game\n",
      "7: BECK: The Game\n",
      "8: The Game of Harmony\n",
      "9: Game Party\n",
      "Title: TAS Block\n",
      "Correct Index: -1\n",
      "(162/164) Searching for: Final Fantasy VI\n",
      "(163/164) Searching for: Super Metroid\n",
      "(164/164) Searching for: Super Mario RPG: Legend of the Seven Stars\n"
     ]
    }
   ],
   "source": [
    "from IPython.display import clear_output\n",
    "def search_game(name):\n",
    "    base_url = \"http://www.giantbomb.com/api\"\n",
    "    api_key = \"1a2b6ca5a6672075fad627af8567197ebc76740f\"\n",
    "    headers = {'User-agent': 'Python'}\n",
    "    # Construct query URL\n",
    "    url = (base_url + \"/search/?api_key={0}&format=json&query=\\\"{1}\\\"/resouces='game'&limit=10\".\n",
    "        format(api_key, name.encode('ascii','replace')))\n",
    "    response = requests.get(url, headers=headers).text\n",
    "    results = json.loads(response)\n",
    "    for i, res in enumerate(results['results'][:10]):\n",
    "        if(res['name'] == name):\n",
    "            return res\n",
    "        print \"{0}: {1}\".format(i,res['name'].encode('ascii', 'replace'))\n",
    "    print \"Title: {0}\".format(name.encode('ascii', 'replace'))\n",
    "    correct = int(input(\"Correct Index: \"))\n",
    "    if correct < 0:\n",
    "        return {}\n",
    "    return results['results'][correct]\n",
    "\n",
    "for i, game in enumerate(games):\n",
    "    if 'data' in game and game['data'] is not None:\n",
    "        continue\n",
    "    print \"\\r({0}/{1}) Searching for: {2}\".format(i + 1, len(games), game['title'].encode('ascii', 'ignore'))\n",
    "    game['data'] = search_game(games[i]['title'])\n"
   ]
  },
  {
   "cell_type": "code",
   "execution_count": 100,
   "metadata": {
    "collapsed": false,
    "scrolled": true
   },
   "outputs": [
    {
     "name": "stdout",
     "output_type": "stream",
     "text": [
      "Title: Runny Egg\n",
      "Game ID: x\n",
      "Title: Sonic Colors DS\n",
      "Game ID: 3030-31428\n",
      "Title: Sonic the Hedgehog (2006)\n",
      "Game ID: 3030-20584\n",
      "Title: Final Doom: The Plutonia Experiment\n",
      "Game ID: 3030-750\n",
      "Title: Gimmick!\n",
      "Game ID: 3030-6037\n",
      "Title: Tetris: The Grand Master Series Exhibition\n",
      "Game ID: 3030-42507\n",
      "Title: Kirby & the Amazing Mirror\n",
      "Game ID: 3030-3095\n",
      "Title: Pok?mon Red\n",
      "Game ID: 3030-3966\n",
      "Title: TAS Block\n",
      "Game ID: x\n"
     ]
    }
   ],
   "source": [
    "def search_id(game_id):\n",
    "    base_url = \"http://www.giantbomb.com/api\"\n",
    "    api_key = \"1a2b6ca5a6672075fad627af8567197ebc76740f\"\n",
    "    headers = {'User-agent': 'Python'}\n",
    "    # Construct query URL\n",
    "    url = (base_url + \"/game/{1}/?api_key={0}&format=json\".\n",
    "        format(api_key, game_id))\n",
    "    response = requests.get(url, headers=headers).text\n",
    "    try:\n",
    "        results = json.loads(response)\n",
    "    except Exception as e:\n",
    "        print response\n",
    "    return results['results']\n",
    "for game in games:\n",
    "    if game['data'] == {}:\n",
    "        print \"Title: {0}\".format(game['title'].encode('ascii', 'replace'))\n",
    "        game_id = raw_input(\"Game ID: \")\n",
    "        if game_id == \"x\":\n",
    "            continue\n",
    "        game['data'] = search_id(game_id)"
   ]
  },
  {
   "cell_type": "code",
   "execution_count": 106,
   "metadata": {
    "collapsed": false
   },
   "outputs": [],
   "source": [
    "actual_games = [x for x in games if x['data']]\n",
    "with open(\"games_list.txt\", \"w+\") as f:\n",
    "    for game in actual_games:\n",
    "        f.write(json.dumps(game))"
   ]
  },
  {
   "cell_type": "code",
   "execution_count": 124,
   "metadata": {
    "collapsed": false
   },
   "outputs": [
    {
     "data": {
      "text/plain": [
       "PC                                     61\n",
       "Wii U                                  33\n",
       "Mac                                    24\n",
       "PlayStation Network (PS3)              23\n",
       "Super Nintendo Entertainment System    21\n",
       "Nintendo Entertainment System          19\n",
       "Game Boy                               18\n",
       "Nintendo 3DS eShop                     15\n",
       "GameCube                               15\n",
       "PlayStation                            15\n",
       "PlayStation Network (Vita)             14\n",
       "Xbox 360 Games Store                   14\n",
       "Wii Shop                               13\n",
       "Linux                                  13\n",
       "PlayStation 4                          13\n",
       "Game Boy Advance                       12\n",
       "PlayStation 3                          10\n",
       "Xbox                                    9\n",
       "PlayStation 2                           9\n",
       "Xbox 360                                9\n",
       "Genesis                                 8\n",
       "PlayStation Network (PSP)               7\n",
       "iPad                                    7\n",
       "iPhone                                  7\n",
       "Nintendo 64                             6\n",
       "New Nintendo 3DS                        6\n",
       "Wii                                     6\n",
       "Xbox One                                6\n",
       "Android                                 5\n",
       "Game Boy Color                          4\n",
       "Nintendo DS                             4\n",
       "Saturn                                  4\n",
       "Browser                                 3\n",
       "Game Gear                               3\n",
       "Amiga                                   3\n",
       "Arcade                                  3\n",
       "Nintendo 3DS                            2\n",
       "Commodore 64                            2\n",
       "Sega Master System                      2\n",
       "Ouya                                    2\n",
       "Dreamcast                               2\n",
       "Atari ST                                1\n",
       "Pinball                                 1\n",
       "TurboGrafx-16                           1\n",
       "PlayStation Vita                        1\n",
       "Apple IIgs                              1\n",
       "Amazon Fire TV                          1\n",
       "PlayStation Portable                    1\n",
       "Sega CD                                 1\n",
       "Amstrad CPC                             1\n",
       "Famicom Disk System                     1\n",
       "DSiWare                                 1\n",
       "dtype: int64"
      ]
     },
     "execution_count": 124,
     "metadata": {},
     "output_type": "execute_result"
    }
   ],
   "source": [
    "import numpy as np\n",
    "import pandas as pd\n",
    "import matplotlib.pyplot as plt\n",
    "platforms = list()\n",
    "for game in actual_games:\n",
    "    if 'platforms' in game['data'] and game['data']['platforms']:\n",
    "        platforms += ([x['name'] for x in game['data']['platforms']])\n",
    "platforms = pd.Series(platforms)\n",
    "platforms.value_counts()"
   ]
  },
  {
   "cell_type": "code",
   "execution_count": null,
   "metadata": {
    "collapsed": true
   },
   "outputs": [],
   "source": []
  }
 ],
 "metadata": {
  "kernelspec": {
   "display_name": "Python 2",
   "language": "python",
   "name": "python2"
  },
  "language_info": {
   "codemirror_mode": {
    "name": "ipython",
    "version": 2
   },
   "file_extension": ".py",
   "mimetype": "text/x-python",
   "name": "python",
   "nbconvert_exporter": "python",
   "pygments_lexer": "ipython2",
   "version": "2.7.10"
  }
 },
 "nbformat": 4,
 "nbformat_minor": 0
}
