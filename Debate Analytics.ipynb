{
 "cells": [
  {
   "cell_type": "code",
   "execution_count": 35,
   "metadata": {
    "collapsed": false
   },
   "outputs": [],
   "source": [
    "%matplotlib inline\n",
    "\n",
    "import pandas as pd\n",
    "from pymongo import MongoClient\n",
    "import matplotlib.pyplot as plt\n",
    "import numpy as np\n",
    "\n",
    "db = MongoClient('localhost',27017)['twitter_db']\n",
    "\n",
    "# Make a query to the specific DB and Collection\n",
    "collection = db['twitter_collection']\n",
    "\n"
   ]
  },
  {
   "cell_type": "markdown",
   "metadata": {},
   "source": [
    "# Tweets per Language"
   ]
  },
  {
   "cell_type": "code",
   "execution_count": 62,
   "metadata": {
    "collapsed": false
   },
   "outputs": [
    {
     "data": {
      "image/png": "[encoded data removed]",
      "text/plain": [
       "<matplotlib.figure.Figure at 0x10d31df90>"
      ]
     },
     "metadata": {},
     "output_type": "display_data"
    }
   ],
   "source": [
    "cursor = collection.aggregate(\n",
    "    [\n",
    "        {\"$group\": {\"_id\": \"$lang\", \"count\": {\"$sum\": 1}}},\n",
    "        { \"$sort\": { \"count\": -1 }}\n",
    "    ]\n",
    ")\n",
    "langFrame = pd.DataFrame(list(cursor))\n",
    "langFrame.columns = ['lang','tweets']\n",
    "langFrame = langFrame[langFrame['lang'] != 'und']\n",
    "langFrame[:10].plot(x='lang',y='tweets',kind='bar',logy=True,color='red')\n",
    "plt.xlabel('Language')\n",
    "plt.ylabel('Number of Tweets')\n",
    "plt.title('Tweets per Language')\n",
    "plt.savefig('language_graph.png',dpi=180)"
   ]
  },
  {
   "cell_type": "code",
   "execution_count": null,
   "metadata": {
    "collapsed": true
   },
   "outputs": [],
   "source": []
  }
 ],
 "metadata": {
  "kernelspec": {
   "display_name": "Python 2",
   "language": "python",
   "name": "python2"
  },
  "language_info": {
   "codemirror_mode": {
    "name": "ipython",
    "version": 2
   },
   "file_extension": ".py",
   "mimetype": "text/x-python",
   "name": "python",
   "nbconvert_exporter": "python",
   "pygments_lexer": "ipython2",
   "version": "2.7.10"
  }
 },
 "nbformat": 4,
 "nbformat_minor": 0
}
