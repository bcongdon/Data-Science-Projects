{
 "cells": [
  {
   "cell_type": "code",
   "execution_count": 67,
   "metadata": {
    "collapsed": false
   },
   "outputs": [],
   "source": [
    "import pandas as pd\n",
    "import psycopg2\n",
    "import re\n",
    "import regex\n",
    "from functools import reduce\n",
    "from collections import Counter\n",
    "% matplotlib inline\n",
    "conn_string = \"host='localhost' dbname='bolero'\"\n",
    "con = psycopg2.connect(conn_string)"
   ]
  },
  {
   "cell_type": "code",
   "execution_count": 68,
   "metadata": {
    "collapsed": true
   },
   "outputs": [],
   "source": [
    "tweets = pd.read_sql('SELECT * FROM tweet', con)"
   ]
  },
  {
   "cell_type": "code",
   "execution_count": 85,
   "metadata": {
    "collapsed": false
   },
   "outputs": [
    {
     "data": {
      "text/plain": [
       "🔥     61\n",
       "👍     56\n",
       "😂     37\n",
       "🙄     31\n",
       "🚀     25\n",
       "😕     18\n",
       "👌     17\n",
       "😒     16\n",
       "👏     16\n",
       "🐍     14\n",
       "👍🏻    14\n",
       "😆     13\n",
       "🇺🇸    12\n",
       "🙃     11\n",
       "😅     10\n",
       "😁     10\n",
       "😔      9\n",
       "😉      9\n",
       "😐      8\n",
       "😀      8\n",
       "😜      7\n",
       "😄      7\n",
       "🙌      6\n",
       "😞      6\n",
       "🎧      5\n",
       "😮      5\n",
       "🍁      5\n",
       "😢      5\n",
       "🌧      5\n",
       "🌊      5\n",
       "      ..\n",
       "💫      1\n",
       "🔢      1\n",
       "💤      1\n",
       "💢      1\n",
       "💡      1\n",
       "💔      1\n",
       "🔦      1\n",
       "💊      1\n",
       "💃      1\n",
       "🕐      1\n",
       "👾      1\n",
       "🕑      1\n",
       "👓      1\n",
       "🕒      1\n",
       "🖥      1\n",
       "🖱      1\n",
       "🗓      1\n",
       "😃      1\n",
       "😇      1\n",
       "😊      1\n",
       "👊      1\n",
       "👉      1\n",
       "💳      1\n",
       "👆      1\n",
       "👂      1\n",
       "📰      1\n",
       "🐦      1\n",
       "🐞      1\n",
       "🐚      1\n",
       "🇨🇦     1\n",
       "dtype: int64"
      ]
     },
     "execution_count": 85,
     "metadata": {},
     "output_type": "execute_result"
    }
   ],
   "source": [
    "tweets_clean = tweets[~tweets.text.str.startswith('RT')]\n",
    "decoded = tweets_clean.text\n",
    "emoji_pattern = re.compile(\"[\"\n",
    "        u\"\\U0001F600-\\U0001F64F\"  # emoticons\n",
    "        u\"\\U0001F300-\\U0001F5FF\"  # symbols & pictographs\n",
    "        u\"\\U0001F680-\\U0001F6FF\"  # transport & map symbols\n",
    "        u\"\\U0001F1E0-\\U0001F1FF\"  # flags (iOS)\n",
    "                           \"]+\", flags=re.UNICODE)\n",
    "emojis = Counter()\n",
    "for row in decoded:\n",
    "    emoji_matches = emoji_pattern.findall(row)\n",
    "    indv_emojis = reduce(lambda x, y: x + regex.findall(r'\\X', y), emoji_matches, [])\n",
    "    emojis.update(indv_emojis)\n",
    "pd.Series(emojis).sort_values(ascending=False)"
   ]
  },
  {
   "cell_type": "code",
   "execution_count": null,
   "metadata": {
    "collapsed": true
   },
   "outputs": [],
   "source": []
  }
 ],
 "metadata": {
  "kernelspec": {
   "display_name": "Python 2",
   "language": "python",
   "name": "python2"
  },
  "language_info": {
   "codemirror_mode": {
    "name": "ipython",
    "version": 2
   },
   "file_extension": ".py",
   "mimetype": "text/x-python",
   "name": "python",
   "nbconvert_exporter": "python",
   "pygments_lexer": "ipython2",
   "version": "2.7.12"
  }
 },
 "nbformat": 4,
 "nbformat_minor": 1
}
