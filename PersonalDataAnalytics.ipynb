{
 "cells": [
  {
   "cell_type": "markdown",
   "metadata": {},
   "source": [
    "## Initialize Settings"
   ]
  },
  {
   "cell_type": "code",
   "execution_count": null,
   "metadata": {
    "collapsed": false
   },
   "outputs": [],
   "source": [
    "import json\n",
    "import csv\n",
    "import pandas as pd\n",
    "import numpy as np\n",
    "import matplotlib.pyplot as plt\n",
    "import matplotlib.ticker as tkr\n",
    "import statsmodels.api as sm\n",
    "\n",
    "plt.style.use('ggplot')\n",
    "plt.rcParams['text.color'] = 'black'\n",
    "plt.rcParams['font.serif'] = 'Ubuntu'\n",
    "plt.rcParams['font.monospace'] = 'Ubuntu Mono'\n",
    "plt.rcParams['font.size'] = 10\n",
    "plt.rcParams['axes.labelsize'] = 10\n",
    "plt.rcParams['axes.labelweight'] = 'bold'\n",
    "plt.rcParams['xtick.labelsize'] = 8\n",
    "plt.rcParams['ytick.labelsize'] = 8\n",
    "plt.rcParams['xtick.color'] = 'gray'\n",
    "plt.rcParams['ytick.color'] = 'gray'\n",
    "plt.rcParams['axes.labelcolor'] = 'gray'\n",
    "\n",
    "plt.rcParams['legend.fontsize'] = 10\n",
    "plt.rcParams['figure.titlesize'] = 12\n",
    "% matplotlib inline"
   ]
  },
  {
   "cell_type": "markdown",
   "metadata": {},
   "source": [
    "## Open Data w/ Initial Formatting"
   ]
  },
  {
   "cell_type": "code",
   "execution_count": null,
   "metadata": {
    "collapsed": true
   },
   "outputs": [],
   "source": [
    "with open('wunderlist-20160923-13-58-43.json') as f:\n",
    "    wunderlist_json = json.loads(f.read())\n",
    "    tasks = pd.DataFrame(wunderlist_json['data']['tasks'])\n",
    "    tasks.completed_at = pd.to_datetime(tasks.completed_at)\n"
   ]
  },
  {
   "cell_type": "code",
   "execution_count": null,
   "metadata": {
    "collapsed": false
   },
   "outputs": [],
   "source": [
    "with open('Daily Rating - Data.csv') as f:\n",
    "    daily_rating = pd.read_csv(f)\n",
    "    daily_rating.rename(columns={'Unnamed: 0': 'date'}, inplace=True)\n",
    "    daily_rating.date = pd.to_datetime(daily_rating.date)\n",
    "    daily_rating = daily_rating.set_index('date')"
   ]
  },
  {
   "cell_type": "code",
   "execution_count": null,
   "metadata": {
    "collapsed": false
   },
   "outputs": [],
   "source": [
    "with open('sleepdata.csv') as f:\n",
    "    sleep_data = pd.read_csv(f, delimiter=';')\n",
    "    sleep_data['Sleep Notes'] = sleep_data['Sleep Notes'].str.split(':')\n",
    "    sleep_data.End = pd.to_datetime(pd.to_datetime(sleep_data.End).dt.date)\n",
    "    sleep_data.set_index('End', inplace=True)\n",
    "    sleep_data['Sleep quality'] = sleep_data['Sleep quality'].str.replace('%', '').astype('int')\n",
    "    sleep_data.Sleep_quality = sleep_data['Sleep quality']"
   ]
  },
  {
   "cell_type": "markdown",
   "metadata": {},
   "source": [
    "## Data Analysis / Visualization"
   ]
  },
  {
   "cell_type": "code",
   "execution_count": null,
   "metadata": {
    "collapsed": false
   },
   "outputs": [],
   "source": [
    "# Tasks Completed By Week\n",
    "task_group = pd.DataFrame(tasks[tasks.completed_at.notnull()])\n",
    "tasks_by_date = task_group.set_index('completed_at').groupby(pd.TimeGrouper('d')).sum()\n",
    "fig, ax = plt.subplots()\n",
    "ax.plot(tasks_by_date.groupby(pd.TimeGrouper('w')).sum().completed)\n",
    "fig.autofmt_xdate()\n",
    "ax.set_title(\"Wunderlist Tasks Completed by Week\")\n",
    "ax.set_ylabel(\"Tasks Completed\")\n",
    "fig.tight_layout()"
   ]
  },
  {
   "cell_type": "code",
   "execution_count": null,
   "metadata": {
    "collapsed": false
   },
   "outputs": [],
   "source": [
    "# Average Daily Rating by Week\n",
    "daily_rating = pd.DataFrame(daily_rating[daily_rating.Rating.notnull()])\n",
    "ax = daily_rating.groupby(pd.TimeGrouper('w')).Rating.mean().plot()\n",
    "ax.set_ylim(3, 8)\n",
    "ax.set_title(\"Average Daily Rating per Week\")"
   ]
  },
  {
   "cell_type": "code",
   "execution_count": null,
   "metadata": {
    "collapsed": false
   },
   "outputs": [],
   "source": [
    "# Daily Rating vs. Tasks Completed\n",
    "merged = pd.merge(daily_rating, tasks_by_date, left_index=True, right_index=True)\n",
    "sizes_counts = merged.groupby(['completed', 'Rating']).size().reset_index().rename(columns={0:'count'})\n",
    "sizes = np.array([next(x for _, x in sizes_counts.iterrows() \n",
    "                       if x.Rating == y.Rating and x.completed == y.completed)['count']\n",
    "                  for _, y in merged.iterrows()])\n",
    "plt.scatter(merged.completed, merged.Rating, s=sizes * 15, c='blue')\n",
    "plt.ylabel(\"Daily Rating\")\n",
    "plt.xlabel(\"Tasks Completed\")"
   ]
  },
  {
   "cell_type": "code",
   "execution_count": null,
   "metadata": {
    "collapsed": false
   },
   "outputs": [],
   "source": [
    "# Hours Slept over time\n",
    "fig, ax = plt.subplots()\n",
    "sleep_data.Time_in_bed = pd.to_timedelta(sleep_data['Time in bed'] + \":00\").astype('timedelta64[m]')\n",
    "sleep_data.Time_in_bed[sleep_data.Time_in_bed > 60].groupby(pd.TimeGrouper('w')).mean().plot()\n",
    "plt.axhline(y=480, c='r', linestyle='dashed')\n",
    "ax.set_ylim(5.8 * 60, 9 * 60)\n",
    "ax.set_yticks(np.arange(6 * 60, 10 * 60, 60))\n",
    "ax.set_ylabel(\"Hours Slept\")\n",
    "ax.set_xlabel(\"\")\n",
    "ax.yaxis.set_major_formatter(tkr.FuncFormatter(lambda x, y: int(x/60)))\n",
    "fig.tight_layout()\n"
   ]
  },
  {
   "cell_type": "code",
   "execution_count": null,
   "metadata": {
    "collapsed": false
   },
   "outputs": [],
   "source": [
    "# Sleep Quality over time\n",
    "fig, ax = plt.subplots()\n",
    "ax = sleep_data.Sleep_quality[sleep_data.Sleep_quality > 0].groupby(pd.TimeGrouper('w')).mean().plot()\n",
    "ax.set_ylabel(\"Sleep Quality (%)\")\n",
    "ax.set_xlabel(\"\")\n",
    "ax.set_title(\"Sleep Quality Over Time\")\n",
    "fig.tight_layout()"
   ]
  },
  {
   "cell_type": "code",
   "execution_count": null,
   "metadata": {
    "collapsed": false
   },
   "outputs": [],
   "source": [
    "# Sleep Quality vs Daily Rating\n",
    "all_data = pd.merge(sleep_data, merged, left_index=True, right_index=True)\n",
    "all_data.head()\n",
    "sleep_quality = all_data['Sleep quality']\n",
    "sleep_frequencies = all_data.groupby(['Sleep quality', 'Rating']).size().reset_index().rename(columns={0:'count'})\n",
    "sleep_sizes = np.array([next(x for _, x in sleep_frequencies.iterrows() \n",
    "                             if x.Rating == y.Rating and x['Sleep quality'] == y['Sleep quality'])['count']\n",
    "                        for _, y in all_data.iterrows()])\n",
    "\n",
    "fig, ax = plt.subplots()\n",
    "plt.scatter(sleep_quality, all_data.Rating, s=sleep_sizes * 10, c='blue')\n",
    "plt.plot(sleep_quality, np.poly1d(np.polyfit(sleep_quality, all_data.Rating, 1))(sleep_quality))\n",
    "ax.set_ylabel(\"Daily Rating\")\n",
    "ax.set_xlabel(\"Sleep Quality (%)\")"
   ]
  }
 ],
 "metadata": {
  "kernelspec": {
   "display_name": "Python 2",
   "language": "python",
   "name": "python2"
  },
  "language_info": {
   "codemirror_mode": {
    "name": "ipython",
    "version": 2
   },
   "file_extension": ".py",
   "mimetype": "text/x-python",
   "name": "python",
   "nbconvert_exporter": "python",
   "pygments_lexer": "ipython2",
   "version": "2.7.11"
  }
 },
 "nbformat": 4,
 "nbformat_minor": 0
}
