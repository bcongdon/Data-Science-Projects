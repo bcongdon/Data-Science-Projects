{
 "cells": [
  {
   "cell_type": "markdown",
   "metadata": {},
   "source": [
    "# Hackathon Hackers Website Analysis"
   ]
  },
  {
   "cell_type": "markdown",
   "metadata": {},
   "source": [
    "## Load urls and names"
   ]
  },
  {
   "cell_type": "code",
   "execution_count": 54,
   "metadata": {
    "collapsed": false
   },
   "outputs": [
    {
     "name": "stdout",
     "output_type": "stream",
     "text": [
      "464 entries loaded.\n"
     ]
    }
   ],
   "source": [
    "entries = list()\n",
    "with open('hackathon_hacker_sites.csv','r') as f:\n",
    "    lines = f.read().split('\\n')\n",
    "    for line in lines:\n",
    "        if len(line.split()) == 0:\n",
    "            continue\n",
    "        split = line.split(\" \")\n",
    "        entries.append([\" \".join(split[:-1]), split[-1]])\n",
    "print \"{0} entries loaded.\".format(len(entries))"
   ]
  },
  {
   "cell_type": "markdown",
   "metadata": {},
   "source": [
    "## Check all URLs"
   ]
  },
  {
   "cell_type": "code",
   "execution_count": 15,
   "metadata": {
    "collapsed": false
   },
   "outputs": [
    {
     "name": "stdout",
     "output_type": "stream",
     "text": [
      "360 successful, 104 failed of 464 total.\n",
      "100.% done.\n"
     ]
    }
   ],
   "source": [
    "import urllib2\n",
    "from IPython.display import display, clear_output\n",
    "\n",
    "success = list()\n",
    "fail = list()\n",
    "\n",
    "for entry in entries:\n",
    "    url = entry[1]\n",
    "    if not url.startswith(\"http\"):\n",
    "        url = \"http://\" + url\n",
    "    try:\n",
    "        response = urllib2.urlopen(url, timeout=5)\n",
    "        html = response.read()\n",
    "        bootstrap = 'bootstrap' in html\n",
    "        jquery = 'jquery' in html\n",
    "        success.append(entry + [len(html), bootstrap, jquery])\n",
    "        print len(html)\n",
    "    except Exception as e:\n",
    "        fail.append(entry)\n",
    "    clear_output(wait=True)\n",
    "    print \"{0} successful, {1} failed of {2} total.\".format(len(success), len(fail), len(entries))\n",
    "    print str(100*float(len(success)+len(fail))/len(entries))[:4] + \"% done.\""
   ]
  },
  {
   "cell_type": "markdown",
   "metadata": {},
   "source": [
    "## Analysis"
   ]
  },
  {
   "cell_type": "code",
   "execution_count": 16,
   "metadata": {
    "collapsed": false
   },
   "outputs": [
    {
     "name": "stdout",
     "output_type": "stream",
     "text": [
      "Of the HH sites: 77.5% successful, 22.4% failed.\n"
     ]
    }
   ],
   "source": [
    "success_percent = 100*float(len(success))/len(entries)\n",
    "fail_percent = 100*float(len(fail))/len(entries)\n",
    "print \"Of the HH sites: {0}% successful, {1}% failed.\".format(str(success_percent)[:4], str(fail_percent)[:4])"
   ]
  },
  {
   "cell_type": "markdown",
   "metadata": {},
   "source": [
    "### Website Size\n",
    "(Simple HTML length analysis)"
   ]
  },
  {
   "cell_type": "code",
   "execution_count": 17,
   "metadata": {
    "collapsed": false
   },
   "outputs": [
    {
     "data": {
      "image/png": "[encoded data removed]",
      "text/plain": [
       "<matplotlib.figure.Figure at 0x113564610>"
      ]
     },
     "metadata": {},
     "output_type": "display_data"
    }
   ],
   "source": [
    "import numpy as np\n",
    "import matplotlib.pyplot as plt\n",
    "\n",
    "sizes = np.array([x[2] for x in success])\n",
    "sizes = sizes[sizes < 100000]\n",
    "ax = plt.subplot(111)\n",
    "ax.xaxis.set_ticks_position('bottom')\n",
    "ax.yaxis.set_ticks_position('left')\n",
    "plt.title(\"HH Site size distribution\")\n",
    "plt.xlabel(\"Page size (without media) / bytes\")\n",
    "plt.ylabel(\"Number of sites\")\n",
    "plt.hist(sizes, bins = 50)\n",
    "plt.show()"
   ]
  },
  {
   "cell_type": "markdown",
   "metadata": {
    "collapsed": true
   },
   "source": [
    "### Top Level Domains"
   ]
  },
  {
   "cell_type": "code",
   "execution_count": 18,
   "metadata": {
    "collapsed": false
   },
   "outputs": [
    {
     "data": {
      "image/png": "[encoded data removed]",
      "text/plain": [
       "<matplotlib.figure.Figure at 0x113352dd0>"
      ]
     },
     "metadata": {},
     "output_type": "display_data"
    }
   ],
   "source": [
    "%matplotlib inline\n",
    "import collections\n",
    "import pandas as pd\n",
    "# Extract URLs from entries\n",
    "urls = [x[1] for x in entries]\n",
    "# Take only the top level domain on\n",
    "urls = [\".\" + x.split('.')[-1] for x in urls]\n",
    "# Remove anything after & including the '/' after the TLD if it exists\n",
    "urls = [x.split('/')[0] if '/' in x else x for x in urls]\n",
    "\n",
    "vc = pd.Series(urls).value_counts()\n",
    "vc = vc[vc > 1]\n",
    "ax = plt.subplot(111)\n",
    "ax.xaxis.set_ticks_position('bottom')\n",
    "ax.yaxis.set_ticks_position('left')\n",
    "plt.title(\"HH Top Level Domain Selection\")\n",
    "plt.xlabel('Top Level Domains')\n",
    "plt.ylabel('Number of sites')\n",
    "vc.plot(kind='bar')\n",
    "plt.show()"
   ]
  },
  {
   "cell_type": "code",
   "execution_count": 19,
   "metadata": {
    "collapsed": false
   },
   "outputs": [
    {
     "name": "stdout",
     "output_type": "stream",
     "text": [
      "['Ben Congdon', 'http://benjamincongdon.me/', 6988, True, True]\n"
     ]
    }
   ],
   "source": [
    "x = next(x for x in success if x[0] == \"Ben Congdon\")\n",
    "print x"
   ]
  },
  {
   "cell_type": "code",
   "execution_count": 20,
   "metadata": {
    "collapsed": false
   },
   "outputs": [
    {
     "name": "stdout",
     "output_type": "stream",
     "text": [
      "Max size:\n",
      "name                   Clayton Brand\n",
      "url          http://claytonbrand.com\n",
      "size                          266800\n",
      "bootstrap                      False\n",
      "jQuery                         False\n",
      "Name: 93, dtype: object\n",
      "\n",
      "Min size:\n",
      "name                   Emily Tran\n",
      "url          http://emilytran.org\n",
      "size                           51\n",
      "bootstrap                   False\n",
      "jQuery                      False\n",
      "Name: 123, dtype: object\n"
     ]
    }
   ],
   "source": [
    "data = pd.DataFrame(success)\n",
    "data.columns = ['name','url','size','bootstrap','jQuery']\n",
    "print \"Max size:\"\n",
    "print data.loc[data['size'].idxmax(),:]\n",
    "print \"\\nMin size:\"\n",
    "print data.loc[data['size'].idxmin(),:]"
   ]
  },
  {
   "cell_type": "code",
   "execution_count": 50,
   "metadata": {
    "collapsed": false
   },
   "outputs": [
    {
     "data": {
      "image/png": "[encoded data removed]",
      "text/plain": [
       "<matplotlib.figure.Figure at 0x113c45650>"
      ]
     },
     "metadata": {},
     "output_type": "display_data"
    }
   ],
   "source": [
    "ax = plt.subplot(111)\n",
    "data['bootstrap'].value_counts().plot(kind='pie', \n",
    "                                      shadow=True,\n",
    "                                      autopct='%1.1f%%',\n",
    "                                      startangle=90,\n",
    "                                      explode=(0,0),\n",
    "                                      colors=['lightcoral','lightgreen'])\n",
    "ax.set_aspect('equal')\n",
    "ax.set_title('Bootstrap in HH Sites')\n",
    "ax.set_ylabel('')\n",
    "plt.show()"
   ]
  },
  {
   "cell_type": "code",
   "execution_count": 52,
   "metadata": {
    "collapsed": false
   },
   "outputs": [
    {
     "data": {
      "image/png": "[encoded data removed]",
      "text/plain": [
       "<matplotlib.figure.Figure at 0x113eb6250>"
      ]
     },
     "metadata": {},
     "output_type": "display_data"
    }
   ],
   "source": [
    "ax = plt.subplot(111)\n",
    "data['jQuery'].value_counts().plot(kind='pie', \n",
    "                                   shadow=True,\n",
    "                                   autopct='%1.1f%%',\n",
    "                                   startangle=90,\n",
    "                                   explode=(0,0),\n",
    "                                   colors=['lightgreen','lightcoral'])\n",
    "ax.set_aspect('equal')\n",
    "ax.set_title('jQuery in HH Sites')\n",
    "ax.set_ylabel('')\n",
    "plt.show()"
   ]
  }
 ],
 "metadata": {
  "kernelspec": {
   "display_name": "Python 2",
   "language": "python",
   "name": "python2"
  },
  "language_info": {
   "codemirror_mode": {
    "name": "ipython",
    "version": 2
   },
   "file_extension": ".py",
   "mimetype": "text/x-python",
   "name": "python",
   "nbconvert_exporter": "python",
   "pygments_lexer": "ipython2",
   "version": "2.7.10"
  }
 },
 "nbformat": 4,
 "nbformat_minor": 0
}
