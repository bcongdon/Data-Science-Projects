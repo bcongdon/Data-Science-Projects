{
 "cells": [
  {
   "cell_type": "markdown",
   "metadata": {},
   "source": [
    "# Hackathon Hackers Website Analysis"
   ]
  },
  {
   "cell_type": "markdown",
   "metadata": {},
   "source": [
    "## Load urls and names"
   ]
  },
  {
   "cell_type": "code",
   "execution_count": 6,
   "metadata": {
    "collapsed": false
   },
   "outputs": [
    {
     "data": {
      "text/plain": [
       "464"
      ]
     },
     "execution_count": 6,
     "metadata": {},
     "output_type": "execute_result"
    }
   ],
   "source": [
    "entries = list()\n",
    "with open('hackathon_hacker_sites.csv','r') as f:\n",
    "    lines = f.read().split('\\n')\n",
    "    for line in lines:\n",
    "        if len(line.split()) == 0:\n",
    "            continue\n",
    "        split = line.split(\" \")\n",
    "        entries.append([\" \".join(split[:-1]), split[-1]])\n",
    "len(entries)"
   ]
  },
  {
   "cell_type": "markdown",
   "metadata": {},
   "source": [
    "## Check all URLs"
   ]
  },
  {
   "cell_type": "code",
   "execution_count": 7,
   "metadata": {
    "collapsed": false
   },
   "outputs": [
    {
     "name": "stdout",
     "output_type": "stream",
     "text": [
      "352 successful, 112 failed of 464 total.\n",
      "100.% done.\n"
     ]
    }
   ],
   "source": [
    "import urllib2\n",
    "from IPython.display import display, clear_output\n",
    "\n",
    "success = list()\n",
    "fail = list()\n",
    "\n",
    "for entry in entries:\n",
    "    url = entry[1]\n",
    "    if not url.startswith(\"http\"):\n",
    "        url = \"http://\" + url\n",
    "    try:\n",
    "        response = urllib2.urlopen(url, timeout=5)\n",
    "        html = response.read()\n",
    "        success.append(entry + [len(html)])\n",
    "        print len(html)\n",
    "    except Exception as e:\n",
    "        fail.append(entry)\n",
    "    clear_output(wait=True)\n",
    "    print \"{0} successful, {1} failed of {2} total.\".format(len(success), len(fail), len(entries))\n",
    "    print str(100*float(len(success)+len(fail))/len(entries))[:4] + \"% done.\""
   ]
  },
  {
   "cell_type": "markdown",
   "metadata": {},
   "source": [
    "## Analysis"
   ]
  },
  {
   "cell_type": "code",
   "execution_count": 8,
   "metadata": {
    "collapsed": false
   },
   "outputs": [
    {
     "name": "stdout",
     "output_type": "stream",
     "text": [
      "Of the HH sites: 75.8% successful, 24.1% failed.\n"
     ]
    }
   ],
   "source": [
    "success_percent = 100*float(len(success))/len(entries)\n",
    "fail_percent = 100*float(len(fail))/len(entries)\n",
    "print \"Of the HH sites: {0}% successful, {1}% failed.\".format(str(success_percent)[:4], str(fail_percent)[:4])"
   ]
  },
  {
   "cell_type": "markdown",
   "metadata": {},
   "source": [
    "### Website Size\n",
    "(Simple HTML length analysis)"
   ]
  },
  {
   "cell_type": "code",
   "execution_count": 97,
   "metadata": {
    "collapsed": false
   },
   "outputs": [
    {
     "data": {
      "image/png": "[encoded data removed]",
      "text/plain": [
       "<matplotlib.figure.Figure at 0x11493a290>"
      ]
     },
     "metadata": {},
     "output_type": "display_data"
    }
   ],
   "source": [
    "import numpy as np\n",
    "import matplotlib.pyplot as plt\n",
    "\n",
    "sizes = np.array([x[2] for x in success])\n",
    "sizes = sizes[sizes < 100000]\n",
    "ax = plt.subplot(111)\n",
    "ax.xaxis.set_ticks_position('bottom')\n",
    "ax.yaxis.set_ticks_position('left')\n",
    "plt.title(\"HH Site size distribution\")\n",
    "plt.xlabel(\"Page size (without media) / bytes\")\n",
    "plt.ylabel(\"Number of sites\")\n",
    "plt.hist(sizes, bins = 50)\n",
    "plt.show()"
   ]
  },
  {
   "cell_type": "markdown",
   "metadata": {
    "collapsed": true
   },
   "source": [
    "### Top Level Domains"
   ]
  },
  {
   "cell_type": "code",
   "execution_count": 75,
   "metadata": {
    "collapsed": false
   },
   "outputs": [
    {
     "data": {
      "text/plain": [
       "<matplotlib.axes._subplots.AxesSubplot at 0x112ef3e10>"
      ]
     },
     "execution_count": 75,
     "metadata": {},
     "output_type": "execute_result"
    },
    {
     "data": {
      "image/png": "[encoded data removed]",
      "text/plain": [
       "<matplotlib.figure.Figure at 0x11538d150>"
      ]
     },
     "metadata": {},
     "output_type": "display_data"
    }
   ],
   "source": [
    "import collections\n",
    "import pandas as pd\n",
    "# Extract URLs from entries\n",
    "urls = [x[1] for x in entries]\n",
    "# Take only the top level domain on\n",
    "urls = [\".\" + x.split('.')[-1] for x in urls]\n",
    "# Remove anything after & including the '/' after the TLD if it exists\n",
    "urls = [x.split('/')[0] if '/' in x else x for x in urls]\n",
    "\n",
    "vc = pd.Series(urls).value_counts()\n",
    "vc = vc[vc > 1]\n",
    "ax = plt.subplot(111)\n",
    "ax.xaxis.set_ticks_position('bottom')\n",
    "ax.yaxis.set_ticks_position('left')\n",
    "plt.title(\"HH Top Level Domain Selection\")\n",
    "plt.xlabel('Top Level Domains')\n",
    "plt.ylabel('Number of sites')\n",
    "vc.plot(kind='bar')"
   ]
  },
  {
   "cell_type": "code",
   "execution_count": 93,
   "metadata": {
    "collapsed": false
   },
   "outputs": [
    {
     "name": "stdout",
     "output_type": "stream",
     "text": [
      "['Ben Congdon', 'http://benjamincongdon.me/', 6988]\n"
     ]
    }
   ],
   "source": [
    "x = next(x for x in success if x[0] == \"Ben Congdon\")\n",
    "print x"
   ]
  },
  {
   "cell_type": "code",
   "execution_count": 134,
   "metadata": {
    "collapsed": false
   },
   "outputs": [
    {
     "name": "stdout",
     "output_type": "stream",
     "text": [
      "Max size:\n",
      "name              Clayton Brand\n",
      "url     http://claytonbrand.com\n",
      "size                     266808\n",
      "Name: 92, dtype: object\n",
      "\n",
      "Min size:\n",
      "name              Emily Tran\n",
      "url     http://emilytran.org\n",
      "size                      51\n",
      "Name: 122, dtype: object\n"
     ]
    }
   ],
   "source": [
    "data = pd.DataFrame(success)\n",
    "data.columns = ['name','url','size']\n",
    "print \"Max size:\"\n",
    "print data.loc[data['size'].idxmax(),:]\n",
    "print \"\\nMin size:\"\n",
    "print data.loc[data['size'].idxmin(),:]"
   ]
  },
  {
   "cell_type": "code",
   "execution_count": null,
   "metadata": {
    "collapsed": true
   },
   "outputs": [],
   "source": []
  }
 ],
 "metadata": {
  "kernelspec": {
   "display_name": "Python 2",
   "language": "python",
   "name": "python2"
  },
  "language_info": {
   "codemirror_mode": {
    "name": "ipython",
    "version": 2
   },
   "file_extension": ".py",
   "mimetype": "text/x-python",
   "name": "python",
   "nbconvert_exporter": "python",
   "pygments_lexer": "ipython2",
   "version": "2.7.10"
  }
 },
 "nbformat": 4,
 "nbformat_minor": 0
}
