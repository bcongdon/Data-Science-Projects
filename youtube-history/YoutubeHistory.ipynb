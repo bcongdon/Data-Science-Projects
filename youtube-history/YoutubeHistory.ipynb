{
 "cells": [
  {
   "cell_type": "markdown",
   "metadata": {},
   "source": [
    "## Load Data"
   ]
  },
  {
   "cell_type": "code",
   "execution_count": null,
   "metadata": {
    "collapsed": false
   },
   "outputs": [],
   "source": [
    "import pandas as pd\n",
    "import numpy as np\n",
    "import csv\n",
    "import sys\n",
    "import matplotlib.pyplot as plt\n",
    "%matplotlib inline  \n",
    "\n",
    "\n",
    "with open('watch_later_data.csv') as f:\n",
    "    watch_later = pd.DataFrame(list(csv.reader(f))[1:], columns=['date', 'title', 'url'])\n",
    "    watch_later.index = pd.to_datetime(watch_later.date)\n",
    "    watch_later.drop('date',inplace=True,axis=1)\n",
    "    watch_later['id'] = watch_later.url.map(lambda url: url.split('/')[-1])\n",
    "    watch_later['date_saved'] = watch_later.index\n",
    "with open('scraped_history.csv') as f:\n",
    "    history = pd.DataFrame(list(csv.reader(f)), columns=['title', 'date', 'id', 'next_page'])\n",
    "    history.index = pd.to_datetime(history.date)\n",
    "    history.drop('date',inplace=True,axis=1)\n",
    "    history['date_watched'] = history.index\n",
    "history"
   ]
  },
  {
   "cell_type": "code",
   "execution_count": null,
   "metadata": {
    "collapsed": false
   },
   "outputs": [],
   "source": [
    "watched = history[history.id.isin(watch_later.id)]\n",
    "pd.value_counts(watched.index.normalize()).plot.line()"
   ]
  },
  {
   "cell_type": "code",
   "execution_count": null,
   "metadata": {
    "collapsed": false
   },
   "outputs": [],
   "source": [
    "history.index.normalize().value_counts().plot.line()"
   ]
  },
  {
   "cell_type": "code",
   "execution_count": null,
   "metadata": {
    "collapsed": false
   },
   "outputs": [],
   "source": [
    "watch_later.index.normalize().value_counts().plot.line()"
   ]
  },
  {
   "cell_type": "code",
   "execution_count": null,
   "metadata": {
    "collapsed": false
   },
   "outputs": [],
   "source": [
    "combined = pd.merge(history, watch_later, on='id')\n",
    "combined['date_difference'] = combined.date_watched - combined.date_saved\n",
    "combined.date_difference = combined.date_difference[combined.date_difference > pd.Timedelta('0 days')]\n",
    "combined.date_difference.idxmax()\n",
    "combined.loc[10]"
   ]
  },
  {
   "cell_type": "code",
   "execution_count": null,
   "metadata": {
    "collapsed": true
   },
   "outputs": [],
   "source": []
  }
 ],
 "metadata": {
  "kernelspec": {
   "display_name": "Python 2",
   "language": "python",
   "name": "python2"
  },
  "language_info": {
   "codemirror_mode": {
    "name": "ipython",
    "version": 2
   },
   "file_extension": ".py",
   "mimetype": "text/x-python",
   "name": "python",
   "nbconvert_exporter": "python",
   "pygments_lexer": "ipython2",
   "version": "2.7.11"
  }
 },
 "nbformat": 4,
 "nbformat_minor": 0
}
